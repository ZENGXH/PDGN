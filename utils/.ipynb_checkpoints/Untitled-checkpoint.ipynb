{
 "cells": [
  {
   "cell_type": "code",
   "execution_count": 93,
   "metadata": {},
   "outputs": [],
   "source": [
    "import nn_utils\n",
    "import torch\n",
    "import torch.nn as nn\n",
    "def get_edge_features(x, k):\n",
    "    \"\"\"\n",
    "    Args:\n",
    "        x: point cloud [B, dims, N]\n",
    "        k: kNN neighbours\n",
    "    Return:\n",
    "        [B, 2dims, N, k]    \n",
    "    \"\"\"\n",
    "    B, dims, N = x.shape\n",
    "\n",
    "    # batched pair-wise distance\n",
    "    xt = x.permute(0, 2, 1)\n",
    "    xi = -2 * torch.bmm(xt, x)\n",
    "    xs = torch.sum(xt**2, dim=2, keepdim=True)\n",
    "    xst = xs.permute(0, 2, 1)\n",
    "    dist = xi + xs + xst # [B, N, N]\n",
    "\n",
    "    # get k NN id    \n",
    "    _, idx = torch.sort(dist, dim=2)\n",
    "    idx = idx[: ,: ,1:k+1] # [B, N, k]\n",
    "    idx = idx.contiguous().view(B, N*k)\n",
    "\n",
    "    # gather\n",
    "    neighbors = []\n",
    "    for b in range(B):\n",
    "        tmp = torch.index_select(x[b], 1, idx[b]) # [d, N*k] <- [d, N], 0, [N*k]\n",
    "        tmp = tmp.view(dims, N, k)\n",
    "        neighbors.append(tmp)\n",
    "    neighbors = torch.stack(neighbors) # [B, d, N, k]\n",
    "\n",
    "    # centralize\n",
    "    central = x.unsqueeze(3) # [B, d, N, 1]\n",
    "    central = central.repeat(1, 1, 1, k) # [B, d, N, k]\n",
    "\n",
    "    ee = torch.cat([central, neighbors-central], dim=1)\n",
    "    assert ee.shape == (B, 2*dims, N, k)\n",
    "    return ee\n",
    "\n",
    "class conv2dbr(nn.Module):\n",
    "    \"\"\" Conv2d-bn-relu\n",
    "    [B, Fin, H, W] -> [B, Fout, H, W]\n",
    "    \"\"\"\n",
    "    def __init__(self, Fin, Fout, kernel_size, stride=1):\n",
    "        super(conv2dbr, self).__init__()\n",
    "        self.fout = Fout\n",
    "        self.kernel_size = kernel_size[1]\n",
    "        self.conv = nn.Conv2d(Fin, Fout, kernel_size, stride)\n",
    "        self.conv2 = nn.Conv2d(Fout,Fin,1,1)\n",
    "        self.bn = nn.BatchNorm2d(Fout)\n",
    "        self.ac = nn.ReLU(True)\n",
    "\n",
    "    def forward(self, x):\n",
    "        \n",
    "        batch_size,Fin,H,W = x.shape\n",
    "        print('batch_size,Fin,H,W:',x.shape)\n",
    "        x1 = self.conv(x) # [B, Fout, H, W]\n",
    "        print(x.shape)\n",
    "        x1 = x1.view(batch_size,-1,self.fout)   #[B,HW, Fout] \n",
    "        print('x1:',x1.shape)\n",
    "        x2 = torch.transpose(x1, 2, 1)      #[B,Fout,HW]     \n",
    "        print('x2:',x2.shape)\n",
    "        x3 = torch.bmm(x1,x2)    #[B,HW,HW] \n",
    "        print('x3:',x3.shape)\n",
    "        x4 = x1    #[B,HW, Fout] \n",
    "        print('x4:',x4.shape)\n",
    "        x5 = torch.bmm(x3,x4)\n",
    "        print('x5:',x5.shape)\n",
    "        x6 = x5.view(batch_size,self.fout,H,W//self.kernel_size)\n",
    "        print('x6:',x6.shape)\n",
    "        x = self.conv(x6)\n",
    "        x = self.bn(x)\n",
    "        x = self.ac(x)\n",
    "        return x\n",
    "    \n",
    "# class conv2dbr(nn.Module):\n",
    "#     \"\"\" Conv2d-bn-relu\n",
    "#     [B, Fin, H, W] -> [B, Fout, H, W]\n",
    "#     \"\"\"\n",
    "#     def __init__(self, Fin, Fout, kernel_size, stride=1):\n",
    "#         super(conv2dbr, self).__init__()\n",
    "#         self.kernel_size = kernel_size[1]\n",
    "#         self.conv = nn.Conv2d(Fin, Fout, kernel_size, stride)\n",
    "#         self.bn = nn.BatchNorm2d(Fout)\n",
    "#         self.ac = nn.ReLU(True)\n",
    "\n",
    "#     def forward(self, x):\n",
    "#         print(x.shape)\n",
    "#         print(self.kernel_size)\n",
    "#         x = self.conv(x) # [B, Fout, H, W]\n",
    "#         print('x:',x.shape)\n",
    "#         x = self.bn(x)\n",
    "#         x = self.ac(x)\n",
    "#         return x\n",
    "    \n",
    "class upsample_edgeConv(nn.Module):\n",
    "    \"\"\" Edge Convolution using 1x1 Conv h\n",
    "    [B, Fin, N] -> [B, Fout, N]\n",
    "    \"\"\"\n",
    "    def __init__(self, Fin, Fout, k):\n",
    "        super(upsample_edgeConv, self).__init__()\n",
    "        self.k = k\n",
    "        self.Fin = Fin\n",
    "        self.Fout = Fout\n",
    "        # print(2*Fin, Fout)\n",
    "        self.conv = conv2dbr(2*Fin, Fout, [1, 20], [1, 20])\n",
    "        # self.conv = conv2dbr(2*Fin, Fin//2, [1, 20], [1, 20])\n",
    "\n",
    "    def forward(self, x):\n",
    "        B, Fin, N = x.shape\n",
    "        x = get_edge_features(x, self.k); # [B, 2Fin, N, k]\n",
    "        # print('econv: {}'.format(x.shape))\n",
    "        # x = self.conv(x) # [B, Fout, N, k]\n",
    "        # print('econv: {}'.format(x.shape))\n",
    "\n",
    "        # --------------interpolate---------------------\n",
    "        # print(input_org[0, :, 0, 0:4])\n",
    "        BB, CC, NN, KK = x.size()\n",
    "        inp = x.view(BB*CC*NN, 1, KK)\n",
    "        oup = torch.nn.functional.interpolate(inp, scale_factor=2, mode='nearest')\n",
    "        # print(oup.shape)\n",
    "        oup = oup.view(BB, CC, NN, KK*2)\n",
    "        # print(oup.shape)\n",
    "\n",
    "        x = self.conv(oup) # [B, Fout, N, k]\n",
    "        # print(x.shape)\n",
    "\n",
    "        # exit()\n",
    "        # if Fin == 12:\n",
    "        #     x = x.view(BB, 3, 2*NN)\n",
    "        # else:\n",
    "        #     x = x.view(BB, Fin//2, 2*NN)\n",
    "\n",
    "        x = x.view(BB, self.Fout, 2*NN)\n",
    "        print(x.shape)\n",
    "        # print(x.shape)\n",
    "\n",
    "        # x, _ = torch.max(x, 3) # [B, Fout, N]\n",
    "        # print('econv: {}'.format(x.shape))\n",
    "        # assert x.shape == (B, self.Fout, 2*N)\n",
    "        # exit()\n",
    "        return x\n"
   ]
  },
  {
   "cell_type": "code",
   "execution_count": 94,
   "metadata": {},
   "outputs": [],
   "source": [
    "x = torch.randn(50,128,32)"
   ]
  },
  {
   "cell_type": "code",
   "execution_count": 95,
   "metadata": {},
   "outputs": [],
   "source": [
    "k = upsample_edgeConv(128,512,20)"
   ]
  },
  {
   "cell_type": "code",
   "execution_count": 96,
   "metadata": {},
   "outputs": [
    {
     "name": "stdout",
     "output_type": "stream",
     "text": [
      "batch_size,Fin,H,W: torch.Size([50, 256, 32, 40])\n",
      "torch.Size([50, 256, 32, 40])\n",
      "x1: torch.Size([50, 64, 512])\n",
      "x2: torch.Size([50, 512, 64])\n",
      "x3: torch.Size([50, 64, 64])\n",
      "x4: torch.Size([50, 64, 512])\n",
      "x5: torch.Size([50, 64, 512])\n",
      "x: torch.Size([50, 512, 32, 2])\n",
      "torch.Size([50, 512, 64])\n"
     ]
    }
   ],
   "source": [
    "y = k(x)"
   ]
  },
  {
   "cell_type": "code",
   "execution_count": 10,
   "metadata": {},
   "outputs": [
    {
     "data": {
      "text/plain": [
       "torch.Size([50, 512, 64])"
      ]
     },
     "execution_count": 10,
     "metadata": {},
     "output_type": "execute_result"
    }
   ],
   "source": [
    "y.shape"
   ]
  },
  {
   "cell_type": "code",
   "execution_count": 11,
   "metadata": {},
   "outputs": [],
   "source": []
  },
  {
   "cell_type": "code",
   "execution_count": null,
   "metadata": {},
   "outputs": [],
   "source": []
  }
 ],
 "metadata": {
  "kernelspec": {
   "display_name": "Python 3",
   "language": "python",
   "name": "python3"
  },
  "language_info": {
   "codemirror_mode": {
    "name": "ipython",
    "version": 3
   },
   "file_extension": ".py",
   "mimetype": "text/x-python",
   "name": "python",
   "nbconvert_exporter": "python",
   "pygments_lexer": "ipython3",
   "version": "3.6.2"
  }
 },
 "nbformat": 4,
 "nbformat_minor": 2
}
